{
 "cells": [
  {
   "cell_type": "markdown",
   "metadata": {},
   "source": [
    "# 数学的基礎から学ぶ Deep Learning (with Python) Vol. 13【MPS 横浜 第13回】\n",
    "\n",
    "Q1. (+1, -1)をEchoするNNを作ってどんなネットワークができるか見てみよう\n",
    "\n",
    "をやってみた。"
   ]
  },
  {
   "cell_type": "code",
   "execution_count": 1,
   "metadata": {
    "collapsed": false
   },
   "outputs": [],
   "source": [
    "%matplotlib inline\n",
    "import sys\n",
    "sys.path.append('..')\n",
    "from nn.networks import Classifier\n",
    "import helpers\n",
    "from tqdm import tqdm\n",
    "import numpy as np\n",
    "\n",
    "LEARNING_RATE = 0.15\n",
    "\n",
    "# 入力と教師データ\n",
    "data = [( [ np.array([[-1,]]), np.array([[-1,]]) ] ),    # -1 -> -1\n",
    "        ( [ np.array([[ 1,]]), np.array([[ 1,]]) ] ) ]   #  1 ->  1\n",
    "\n",
    "# 学習結果を返す関数\n",
    "def create_classfier(dt, st):\n",
    "    classfier = Classifier('tanh', 1, 'se', LEARNING_RATE)\n",
    "    classfier.add_layer('tanh', 1, alpha=1.0, beta=1.0)\n",
    "    helpers.training(classfier, dt, st)\n",
    "    return classfier"
   ]
  },
  {
   "cell_type": "code",
   "execution_count": 2,
   "metadata": {
    "collapsed": false
   },
   "outputs": [
    {
     "name": "stderr",
     "output_type": "stream",
     "text": [
      "100%|██████████| 100/100 [00:00<00:00, 5292.63it/s]\n",
      "100%|██████████| 1000/1000 [00:00<00:00, 7468.76it/s]\n",
      "100%|██████████| 100000/100000 [00:11<00:00, 8645.14it/s]\n"
     ]
    }
   ],
   "source": [
    "# 100回学習\n",
    "st1 = 100\n",
    "cf1 = create_classfier(data, st1)\n",
    "# 1000回学習\n",
    "st2 = 1000\n",
    "cf2 = create_classfier(data, st2)\n",
    "# 100000回学習\n",
    "st3 = 100000\n",
    "cf3 = create_classfier(data, st3)"
   ]
  },
  {
   "cell_type": "code",
   "execution_count": 3,
   "metadata": {
    "collapsed": false
   },
   "outputs": [
    {
     "data": {
      "text/plain": [
       "<matplotlib.legend.Legend at 0x109387a90>"
      ]
     },
     "execution_count": 3,
     "metadata": {},
     "output_type": "execute_result"
    },
    {
     "data": {
      "image/png": "[encoded data removed]",
      "text/plain": [
       "<matplotlib.figure.Figure at 0x10b922e80>"
      ]
     },
     "metadata": {},
     "output_type": "display_data"
    }
   ],
   "source": [
    "# 学習データの成果を描画\n",
    "import matplotlib.pyplot as plt\n",
    "x = np.array([np.arange(-2.0, 2.0, 0.1)])\n",
    "y1 = cf1.propagate_forward(x)\n",
    "y2 = cf2.propagate_forward(x)\n",
    "y3 = cf3.propagate_forward(x)\n",
    "\n",
    "plt.hlines(   0, -2.0, 2.0, linestyles=\"dashed\")\n",
    "plt.hlines( 1.0, -2.0, 2.0, linestyles=\"dashed\")\n",
    "plt.hlines(-1.0, -2.0, 2.0, linestyles=\"dashed\")\n",
    "\n",
    "plt.vlines(   0, -2.0, 2.0, linestyles=\"dashed\")\n",
    "plt.vlines( 1.0, -2.0, 2.0, linestyles=\"dashed\")\n",
    "plt.vlines(-1.0, -2.0, 2.0, linestyles=\"dashed\")\n",
    "\n",
    "plt.plot(x[0], y1[0], label=st1)\n",
    "plt.plot(x[0], y2[0], label=st2)\n",
    "plt.plot(x[0], y3[0], label=st3)\n",
    "plt.legend(loc='upper left')"
   ]
  },
  {
   "cell_type": "markdown",
   "metadata": {},
   "source": [
    "学習の回数が増えるほど、グラフは急峻になる。\n",
    "\n",
    "100回学習のグラフが原点を通っていないのは、まだbの値が十分に減っていないから。"
   ]
  },
  {
   "cell_type": "code",
   "execution_count": null,
   "metadata": {
    "collapsed": true
   },
   "outputs": [],
   "source": []
  }
 ],
 "metadata": {
  "kernelspec": {
   "display_name": "Python 3",
   "language": "python",
   "name": "python3"
  },
  "language_info": {
   "codemirror_mode": {
    "name": "ipython",
    "version": 3
   },
   "file_extension": ".py",
   "mimetype": "text/x-python",
   "name": "python",
   "nbconvert_exporter": "python",
   "pygments_lexer": "ipython3",
   "version": "3.5.1"
  }
 },
 "nbformat": 4,
 "nbformat_minor": 1
}
